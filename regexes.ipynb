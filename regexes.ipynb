{
 "cells": [
  {
   "cell_type": "markdown",
   "metadata": {},
   "source": [
    "# Regular Expressions\n",
    "\n",
    "Like a good espresso, regular expressions require care and precision to avoid either a watery mess or bitter sludge.\n",
    "\n",
    "We will not have time to cover everything about **regexes** here, but this introduction should help you feel comfortable poking around and using them in your own code."
   ]
  },
  {
   "cell_type": "code",
   "execution_count": 4,
   "metadata": {},
   "outputs": [],
   "source": [
    "sample_text = \"\"\"\n",
    "“Ye kings and warriors! may your vows be crown’d,\n",
    "And Troy’s proud walls lie level with the ground.\n",
    "May Jove restore you when your toils are o’er\n",
    "Safe to the pleasures of your native shore.\n",
    "But, oh! relieve a wretched parent’s pain,\n",
    "And give Chryseïs to these arms again;\n",
    "If mercy fail, yet let my presents move,\n",
    "And dread avenging Phœbus, son of Jove.”\n",
    "\"\"\""
   ]
  },
  {
   "cell_type": "code",
   "execution_count": 6,
   "metadata": {},
   "outputs": [
    {
     "data": {
      "text/plain": [
       "[['Ye', 'kings', 'and', 'warriors', 'may', 'your', 'vows', 'be', 'crown’d'],\n",
       " ['And', 'Troy’s', 'proud', 'walls', 'lie', 'level', 'with', 'the', 'ground'],\n",
       " ['May', 'Jove', 'restore', 'you', 'when', 'your', 'toils', 'are', 'o’er'],\n",
       " ['Safe', 'to', 'the', 'pleasures', 'of', 'your', 'native', 'shore'],\n",
       " ['But', 'oh', 'relieve', 'a', 'wretched', 'parent’s', 'pain'],\n",
       " ['And', 'give', 'Chryseïs', 'to', 'these', 'arms', 'again'],\n",
       " ['If', 'mercy', 'fail', 'yet', 'let', 'my', 'presents', 'move'],\n",
       " ['And', 'dread', 'avenging', 'Phœbus', 'son', 'of', 'Jove']]"
      ]
     },
     "execution_count": 6,
     "metadata": {},
     "output_type": "execute_result"
    }
   ],
   "source": [
    "import re\n",
    "\n",
    "word_regex = re.compile(r\"[\\s\\.,!;”“]+\")\n",
    "\n",
    "lines = [[w for w in word_regex.split(l) if w != \"\"] for l in sample_text.strip().splitlines()]\n",
    "lines"
   ]
  },
  {
   "cell_type": "code",
   "execution_count": 7,
   "metadata": {},
   "outputs": [
    {
     "data": {
      "text/plain": [
       "1"
      ]
     },
     "execution_count": 7,
     "metadata": {},
     "output_type": "execute_result"
    }
   ],
   "source": [
    "n_ground = 0\n",
    "for line in lines:\n",
    "    for word in line:\n",
    "        if word == \"ground\":\n",
    "            n_ground += 1\n",
    "\n",
    "n_ground"
   ]
  },
  {
   "cell_type": "markdown",
   "metadata": {},
   "source": [
    "## Homework\n",
    "\n",
    "Using the code above as a guide, get the counts for _every_ word in `sample_text`."
   ]
  },
  {
   "cell_type": "code",
   "execution_count": null,
   "metadata": {},
   "outputs": [
    {
     "name": "stdout",
     "output_type": "stream",
     "text": [
      "There are 56 unique words, below is a list and their count:\n",
      "there is only 1 instance of Ye.\n",
      "there is only 1 instance of kings.\n",
      "there is only 1 instance of and.\n",
      "there is only 1 instance of warriors.\n",
      "there is only 1 instance of may.\n",
      "there are 3 amount of your.\n",
      "there is only 1 instance of vows.\n",
      "there is only 1 instance of be.\n",
      "there is only 1 instance of crown’d.\n",
      "there are 3 amount of And.\n",
      "there is only 1 instance of Troy’s.\n",
      "there is only 1 instance of proud.\n",
      "there is only 1 instance of walls.\n",
      "there is only 1 instance of lie.\n",
      "there is only 1 instance of level.\n",
      "there is only 1 instance of with.\n",
      "there are 2 amount of the.\n",
      "there is only 1 instance of ground.\n",
      "there is only 1 instance of May.\n",
      "there are 2 amount of Jove.\n",
      "there is only 1 instance of restore.\n",
      "there is only 1 instance of you.\n",
      "there is only 1 instance of when.\n",
      "there is only 1 instance of toils.\n",
      "there is only 1 instance of are.\n",
      "there is only 1 instance of o’er.\n",
      "there is only 1 instance of Safe.\n",
      "there are 2 amount of to.\n",
      "there is only 1 instance of pleasures.\n",
      "there are 2 amount of of.\n",
      "there is only 1 instance of native.\n",
      "there is only 1 instance of shore.\n",
      "there is only 1 instance of But.\n",
      "there is only 1 instance of oh.\n",
      "there is only 1 instance of relieve.\n",
      "there is only 1 instance of a.\n",
      "there is only 1 instance of wretched.\n",
      "there is only 1 instance of parent’s.\n",
      "there is only 1 instance of pain.\n",
      "there is only 1 instance of give.\n",
      "there is only 1 instance of Chryseïs.\n",
      "there is only 1 instance of these.\n",
      "there is only 1 instance of arms.\n",
      "there is only 1 instance of again.\n",
      "there is only 1 instance of If.\n",
      "there is only 1 instance of mercy.\n",
      "there is only 1 instance of fail.\n",
      "there is only 1 instance of yet.\n",
      "there is only 1 instance of let.\n",
      "there is only 1 instance of my.\n",
      "there is only 1 instance of presents.\n",
      "there is only 1 instance of move.\n",
      "there is only 1 instance of dread.\n",
      "there is only 1 instance of avenging.\n",
      "there is only 1 instance of Phœbus.\n",
      "there is only 1 instance of son.\n"
     ]
    }
   ],
   "source": [
    "counter = {}\n",
    "for line in lines:\n",
    "    for word in line:\n",
    "        if word in counter:\n",
    "            counter[word] += 1\n",
    "        else:\n",
    "            counter[word] = 1\n",
    "print (f\"There are {len(counter)} unique words, below is a list and their count:\" )\n",
    "for word, amount in counter.items(): \n",
    "    if amount > 1:\n",
    "        print (f\"there are {amount} instances of {word}.\")\n",
    "    else: \n",
    "        print (f\"there is only {amount} instance of {word}.\")\n",
    "\n"
   ]
  }
 ],
 "metadata": {
  "kernelspec": {
   "display_name": "Python 3",
   "language": "python",
   "name": "python3"
  },
  "language_info": {
   "codemirror_mode": {
    "name": "ipython",
    "version": 3
   },
   "file_extension": ".py",
   "mimetype": "text/x-python",
   "name": "python",
   "nbconvert_exporter": "python",
   "pygments_lexer": "ipython3",
   "version": "3.12.1"
  }
 },
 "nbformat": 4,
 "nbformat_minor": 2
}
